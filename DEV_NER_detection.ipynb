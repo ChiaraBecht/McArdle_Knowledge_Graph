{
 "cells": [
  {
   "cell_type": "markdown",
   "metadata": {},
   "source": [
    "# NER Detection using flair\n",
    "\n",
    "Following the tutorial: https://github.com/flairNLP/flair/blob/master/resources/docs/HUNFLAIR.md"
   ]
  },
  {
   "cell_type": "code",
   "execution_count": 14,
   "metadata": {},
   "outputs": [],
   "source": [
    "from flair.data import Sentence\n",
    "from flair.nn import Classifier\n",
    "from flair.tokenization import SciSpacyTokenizer\n",
    "import spacy"
   ]
  },
  {
   "cell_type": "code",
   "execution_count": null,
   "metadata": {},
   "outputs": [],
   "source": [
    "file_path = \"C:/Data_Science/McArdle_Knowledge_Graph/data/33240189.txt\"\n",
    "with open(file_path, \"r\") as file:\n",
    "    file_contents = file.read()"
   ]
  },
  {
   "cell_type": "code",
   "execution_count": 5,
   "metadata": {
    "scrolled": true
   },
   "outputs": [
    {
     "name": "stdout",
     "output_type": "stream",
     "text": [
      "McArdle Disease vs. Stiff-Person Syndrome: A Case Report Highlighting the Similarities Between Two Rare and Distinct Disorders. McArdle disease is a rare autosomal recessive disorder of muscle glycogen metabolism that presents with pain and fatigue during exercise. Stiff-Person Syndrome is an autoimmune-related neurologic process characterized by fluctuating muscle rigidity and spasm. Reported is a 41-year-old male who presented to the emergency department due to sudden-onset weakness and chest pain while moving his refrigerator at home. Cardiac workup was non-contributory, but a creatine kinase level > 6,000 warranted a muscle biopsy. The biopsy pathology report was misinterpreted to be diagnostic for McArdle disease given the clinical presentation. After 4 years of treatment without symptomatic improvement, a gradual transition of symptoms from pain alone to pain with stiffness was noted. A positive glutamic acid decarboxylase antibody test resulted in a change of diagnosis to Stiff-Person Syndrome. This is the first known case that highlights the similarities between these two rare and distinct disease processes, highlighting the necessity for thorough history taking, maintenance of a broad differential diagnosis, and knowledge of how best to interpret complex pathology reports.\n"
     ]
    }
   ],
   "source": [
    "print(file_contents)"
   ]
  },
  {
   "cell_type": "code",
   "execution_count": 21,
   "metadata": {},
   "outputs": [
    {
     "name": "stderr",
     "output_type": "stream",
     "text": [
      "C:\\Users\\chiar\\anaconda3\\envs\\NLP\\Lib\\site-packages\\spacy\\util.py:837: UserWarning: [W095] Model 'en_core_sci_sm' (0.5.1) was trained with spaCy v3.4 and may not be 100% compatible with the current version (3.3.1). If you see errors or degraded performance, download a newer compatible model or retrain your custom model with the current spaCy version. For more details and available updates, run: python -m spacy validate\n",
      "  warnings.warn(warn_msg)\n"
     ]
    }
   ],
   "source": [
    "import spacy\n",
    "import scispacy\n",
    "nlp = spacy.load(\"en_core_sci_sm\")"
   ]
  },
  {
   "cell_type": "code",
   "execution_count": 22,
   "metadata": {},
   "outputs": [],
   "source": [
    "sentence = Sentence(file_contents, use_tokenizer=SciSpacyTokenizer())"
   ]
  },
  {
   "cell_type": "code",
   "execution_count": 23,
   "metadata": {},
   "outputs": [
    {
     "name": "stdout",
     "output_type": "stream",
     "text": [
      "2023-08-23 18:37:53,486 SequenceTagger predicts: Dictionary with 8 tags: <unk>, O, B-Disease, E-Disease, I-Disease, S-Disease, <START>, <STOP>\n",
      "2023-08-23 18:37:55,045 SequenceTagger predicts: Dictionary with 8 tags: <unk>, O, S-Gene, B-Gene, I-Gene, E-Gene, <START>, <STOP>\n",
      "2023-08-23 18:37:56,653 SequenceTagger predicts: Dictionary with 8 tags: <unk>, O, S-Species, B-Species, I-Species, E-Species, <START>, <STOP>\n",
      "2023-08-23 18:37:58,164 SequenceTagger predicts: Dictionary with 8 tags: <unk>, O, S-CellLine, B-CellLine, I-CellLine, E-CellLine, <START>, <STOP>\n",
      "2023-08-23 18:37:59,597 SequenceTagger predicts: Dictionary with 8 tags: <unk>, O, S-Chemical, B-Chemical, I-Chemical, E-Chemical, <START>, <STOP>\n"
     ]
    }
   ],
   "source": [
    "# load biomedical tagger\n",
    "tagger = Classifier.load(\"hunflair\")\n",
    "\n",
    "# tag sentence\n",
    "tagger.predict(sentence)"
   ]
  },
  {
   "cell_type": "code",
   "execution_count": 25,
   "metadata": {},
   "outputs": [
    {
     "name": "stdout",
     "output_type": "stream",
     "text": [
      "Span[0:2]: \"McArdle Disease\" → Disease (0.9855)\n",
      "Span[3:7]: \"Stiff-Person Syndrome\" → Disease (0.9657)\n",
      "Span[21:23]: \"McArdle disease\" → Disease (0.9875)\n",
      "Span[26:33]: \"autosomal recessive disorder of muscle glycogen metabolism\" → Disease (0.7885)\n",
      "Span[36:37]: \"pain\" → Disease (0.9524)\n",
      "Span[38:39]: \"fatigue\" → Disease (0.9707)\n",
      "Span[42:46]: \"Stiff-Person Syndrome\" → Disease (0.9665)\n",
      "Span[48:53]: \"autoimmune-related neurologic process\" → Disease (0.6707)\n",
      "Span[56:58]: \"muscle rigidity\" → Disease (0.9423)\n",
      "Span[59:60]: \"spasm\" → Disease (0.9929)\n",
      "Span[79:80]: \"weakness\" → Disease (0.7689)\n",
      "Span[81:83]: \"chest pain\" → Disease (0.9717)\n",
      "Span[99:101]: \"creatine kinase\" → Gene (0.71)\n",
      "Span[99:100]: \"creatine\" → Chemical (0.9681)\n",
      "Span[119:121]: \"McArdle disease\" → Disease (0.9603)\n",
      "Span[141:142]: \"pain\" → Disease (0.9683)\n",
      "Span[144:145]: \"pain\" → Disease (0.961)\n",
      "Span[146:147]: \"stiffness\" → Disease (0.8947)\n",
      "Span[152:155]: \"glutamic acid decarboxylase\" → Gene (0.8885)\n",
      "Span[152:154]: \"glutamic acid\" → Chemical (0.7521)\n",
      "Span[164:168]: \"Stiff-Person Syndrome\" → Disease (0.8828)\n"
     ]
    }
   ],
   "source": [
    "for entity in sentence.get_labels():\n",
    "    print(entity)"
   ]
  },
  {
   "cell_type": "markdown",
   "metadata": {},
   "source": [
    "# NER with SciSpaCy"
   ]
  },
  {
   "cell_type": "code",
   "execution_count": 26,
   "metadata": {},
   "outputs": [
    {
     "name": "stderr",
     "output_type": "stream",
     "text": [
      "C:\\Users\\chiar\\anaconda3\\envs\\NLP\\Lib\\site-packages\\spacy\\util.py:837: UserWarning: [W095] Model 'en_core_sci_sm' (0.5.1) was trained with spaCy v3.4 and may not be 100% compatible with the current version (3.3.1). If you see errors or degraded performance, download a newer compatible model or retrain your custom model with the current spaCy version. For more details and available updates, run: python -m spacy validate\n",
      "  warnings.warn(warn_msg)\n"
     ]
    }
   ],
   "source": [
    "nlp = spacy.load(\"en_ner_bionlp13cg_md\")#(\"en_core_sci_sm\")"
   ]
  },
  {
   "cell_type": "code",
   "execution_count": 30,
   "metadata": {},
   "outputs": [],
   "source": [
    "doc = nlp(file_contents)"
   ]
  },
  {
   "cell_type": "code",
   "execution_count": 31,
   "metadata": {},
   "outputs": [
    {
     "name": "stdout",
     "output_type": "stream",
     "text": [
      "(McArdle Disease, Stiff-Person Syndrome, Case Report, Similarities, Rare, Disorders, McArdle disease, autosomal recessive disorder, muscle glycogen metabolism, pain, fatigue, exercise, Stiff-Person Syndrome, autoimmune-related neurologic process, muscle rigidity, spasm, male, emergency department, sudden-onset weakness, chest pain, moving, refrigerator, home, Cardiac workup, non-contributory, creatine kinase, level, muscle biopsy, biopsy pathology report, diagnostic, McArdle disease, clinical presentation, years, treatment, symptomatic, improvement, transition, symptoms, pain, pain, stiffness, positive glutamic acid decarboxylase antibody test, diagnosis, Stiff-Person Syndrome, similarities, rare, disease processes, necessity, history taking, maintenance, knowledge, complex, pathology reports)\n"
     ]
    }
   ],
   "source": [
    "print(doc.ents)"
   ]
  },
  {
   "cell_type": "code",
   "execution_count": 35,
   "metadata": {},
   "outputs": [
    {
     "name": "stdout",
     "output_type": "stream",
     "text": [
      "McArdle Disease ENTITY\n",
      "Stiff-Person Syndrome ENTITY\n",
      "Case Report ENTITY\n",
      "Similarities ENTITY\n",
      "Rare ENTITY\n",
      "Disorders ENTITY\n",
      "McArdle disease ENTITY\n",
      "autosomal recessive disorder ENTITY\n",
      "muscle glycogen metabolism ENTITY\n",
      "pain ENTITY\n",
      "fatigue ENTITY\n",
      "exercise ENTITY\n",
      "Stiff-Person Syndrome ENTITY\n",
      "autoimmune-related neurologic process ENTITY\n",
      "muscle rigidity ENTITY\n",
      "spasm ENTITY\n",
      "male ENTITY\n",
      "emergency department ENTITY\n",
      "sudden-onset weakness ENTITY\n",
      "chest pain ENTITY\n",
      "moving ENTITY\n",
      "refrigerator ENTITY\n",
      "home ENTITY\n",
      "Cardiac workup ENTITY\n",
      "non-contributory ENTITY\n",
      "creatine kinase ENTITY\n",
      "level ENTITY\n",
      "muscle biopsy ENTITY\n",
      "biopsy pathology report ENTITY\n",
      "diagnostic ENTITY\n",
      "McArdle disease ENTITY\n",
      "clinical presentation ENTITY\n",
      "years ENTITY\n",
      "treatment ENTITY\n",
      "symptomatic ENTITY\n",
      "improvement ENTITY\n",
      "transition ENTITY\n",
      "symptoms ENTITY\n",
      "pain ENTITY\n",
      "pain ENTITY\n",
      "stiffness ENTITY\n",
      "positive glutamic acid decarboxylase antibody test ENTITY\n",
      "diagnosis ENTITY\n",
      "Stiff-Person Syndrome ENTITY\n",
      "similarities ENTITY\n",
      "rare ENTITY\n",
      "disease processes ENTITY\n",
      "necessity ENTITY\n",
      "history taking ENTITY\n",
      "maintenance ENTITY\n",
      "knowledge ENTITY\n",
      "complex ENTITY\n",
      "pathology reports ENTITY\n"
     ]
    }
   ],
   "source": [
    "# Print named entity labels\n",
    "for ent in doc.ents:\n",
    "    print(ent.text, ent.label_)"
   ]
  },
  {
   "cell_type": "markdown",
   "metadata": {},
   "source": [
    "There are specialized entities in spacy for which there are special entity label. However they do not cover as much as the flair named entities."
   ]
  }
 ],
 "metadata": {
  "kernelspec": {
   "display_name": "NLP",
   "language": "python",
   "name": "nlp"
  },
  "language_info": {
   "codemirror_mode": {
    "name": "ipython",
    "version": 3
   },
   "file_extension": ".py",
   "mimetype": "text/x-python",
   "name": "python",
   "nbconvert_exporter": "python",
   "pygments_lexer": "ipython3",
   "version": "3.11.3"
  },
  "vscode": {
   "interpreter": {
    "hash": "453b7706fd82fbe729e681faa7c1b469d8ef54e0ef9fc628ee4ff7ef69952a5b"
   }
  }
 },
 "nbformat": 4,
 "nbformat_minor": 2
}
