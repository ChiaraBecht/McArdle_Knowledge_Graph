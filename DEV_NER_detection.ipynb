{
 "cells": [
  {
   "cell_type": "markdown",
   "metadata": {},
   "source": [
    "# NER Detection using flair\n",
    "\n",
    "Following the tutorial: https://github.com/flairNLP/flair/blob/master/resources/docs/HUNFLAIR.md"
   ]
  },
  {
   "cell_type": "code",
   "execution_count": 120,
   "metadata": {},
   "outputs": [],
   "source": [
    "from flair.data import Sentence\n",
    "from flair.nn import Classifier\n",
    "from flair.tokenization import SciSpacyTokenizer\n",
    "import spacy\n",
    "import pandas as pd"
   ]
  },
  {
   "cell_type": "code",
   "execution_count": 61,
   "metadata": {},
   "outputs": [],
   "source": [
    "file_path = \"C:/Data_Science/McArdle_Knowledge_Graph/data/33240189.txt\"\n",
    "with open(file_path, \"r\") as file:\n",
    "    file_contents = file.read()"
   ]
  },
  {
   "cell_type": "code",
   "execution_count": 62,
   "metadata": {
    "scrolled": true
   },
   "outputs": [
    {
     "name": "stdout",
     "output_type": "stream",
     "text": [
      "McArdle Disease vs. Stiff-Person Syndrome: A Case Report Highlighting the Similarities Between Two Rare and Distinct Disorders. McArdle disease is a rare autosomal recessive disorder of muscle glycogen metabolism that presents with pain and fatigue during exercise. Stiff-Person Syndrome is an autoimmune-related neurologic process characterized by fluctuating muscle rigidity and spasm. Reported is a 41-year-old male who presented to the emergency department due to sudden-onset weakness and chest pain while moving his refrigerator at home. Cardiac workup was non-contributory, but a creatine kinase level > 6,000 warranted a muscle biopsy. The biopsy pathology report was misinterpreted to be diagnostic for McArdle disease given the clinical presentation. After 4 years of treatment without symptomatic improvement, a gradual transition of symptoms from pain alone to pain with stiffness was noted. A positive glutamic acid decarboxylase antibody test resulted in a change of diagnosis to Stiff-Person Syndrome. This is the first known case that highlights the similarities between these two rare and distinct disease processes, highlighting the necessity for thorough history taking, maintenance of a broad differential diagnosis, and knowledge of how best to interpret complex pathology reports.\n"
     ]
    }
   ],
   "source": [
    "print(file_contents)"
   ]
  },
  {
   "cell_type": "code",
   "execution_count": 63,
   "metadata": {},
   "outputs": [],
   "source": [
    "sentence = Sentence(file_contents, use_tokenizer=SciSpacyTokenizer())"
   ]
  },
  {
   "cell_type": "code",
   "execution_count": 64,
   "metadata": {},
   "outputs": [
    {
     "name": "stdout",
     "output_type": "stream",
     "text": [
      "2023-08-24 13:30:05,289 SequenceTagger predicts: Dictionary with 8 tags: <unk>, O, B-Disease, E-Disease, I-Disease, S-Disease, <START>, <STOP>\n",
      "2023-08-24 13:30:07,295 SequenceTagger predicts: Dictionary with 8 tags: <unk>, O, S-Gene, B-Gene, I-Gene, E-Gene, <START>, <STOP>\n",
      "2023-08-24 13:30:09,323 SequenceTagger predicts: Dictionary with 8 tags: <unk>, O, S-Species, B-Species, I-Species, E-Species, <START>, <STOP>\n",
      "2023-08-24 13:30:11,239 SequenceTagger predicts: Dictionary with 8 tags: <unk>, O, S-CellLine, B-CellLine, I-CellLine, E-CellLine, <START>, <STOP>\n",
      "2023-08-24 13:30:13,325 SequenceTagger predicts: Dictionary with 8 tags: <unk>, O, S-Chemical, B-Chemical, I-Chemical, E-Chemical, <START>, <STOP>\n"
     ]
    }
   ],
   "source": [
    "# load biomedical tagger\n",
    "tagger = Classifier.load(\"hunflair\")\n",
    "\n",
    "# tag sentence\n",
    "tagger.predict(sentence)"
   ]
  },
  {
   "cell_type": "code",
   "execution_count": 119,
   "metadata": {},
   "outputs": [
    {
     "name": "stdout",
     "output_type": "stream",
     "text": [
      "[Span[0:2]: \"McArdle Disease\" → Disease (0.9855), Span[3:7]: \"Stiff-Person Syndrome\" → Disease (0.9657), Span[21:23]: \"McArdle disease\" → Disease (0.9875), Span[26:33]: \"autosomal recessive disorder of muscle glycogen metabolism\" → Disease (0.7885), Span[36:37]: \"pain\" → Disease (0.9524), Span[38:39]: \"fatigue\" → Disease (0.9707), Span[42:46]: \"Stiff-Person Syndrome\" → Disease (0.9665), Span[48:53]: \"autoimmune-related neurologic process\" → Disease (0.6707), Span[56:58]: \"muscle rigidity\" → Disease (0.9423), Span[59:60]: \"spasm\" → Disease (0.9929), Span[79:80]: \"weakness\" → Disease (0.7689), Span[81:83]: \"chest pain\" → Disease (0.9717), Span[99:101]: \"creatine kinase\" → Gene (0.71), Span[99:100]: \"creatine\" → Chemical (0.9681), Span[119:121]: \"McArdle disease\" → Disease (0.9603), Span[141:142]: \"pain\" → Disease (0.9683), Span[144:145]: \"pain\" → Disease (0.961), Span[146:147]: \"stiffness\" → Disease (0.8947), Span[152:155]: \"glutamic acid decarboxylase\" → Gene (0.8885), Span[152:154]: \"glutamic acid\" → Chemical (0.7521), Span[164:168]: \"Stiff-Person Syndrome\" → Disease (0.8828)]\n",
      "[('0', '2'), ('3', '7'), ('21', '23'), ('26', '33'), ('36', '37'), ('38', '39'), ('42', '46'), ('48', '53'), ('56', '58'), ('59', '60'), ('79', '80'), ('81', '83'), ('99', '101'), ('99', '100'), ('119', '121'), ('141', '142'), ('144', '145'), ('146', '147'), ('152', '155'), ('152', '154'), ('164', '168')]\n",
      "['Disease', 'Disease', 'Disease', 'Disease', 'Disease', 'Disease', 'Disease', 'Disease', 'Disease', 'Disease', 'Disease', 'Disease', 'Gene', 'Chemical', 'Disease', 'Disease', 'Disease', 'Disease', 'Gene', 'Chemical', 'Disease']\n",
      "['McArdle Disease', 'Stiff - Person Syndrome', 'McArdle disease', 'autosomal recessive disorder of muscle glycogen metabolism', 'pain', 'fatigue', 'Stiff - Person Syndrome', 'autoimmune - related neurologic process', 'muscle rigidity', 'spasm', 'weakness', 'chest pain', 'creatine kinase', 'creatine', 'McArdle disease', 'pain', 'pain', 'stiffness', 'glutamic acid decarboxylase', 'glutamic acid', 'Stiff - Person Syndrome']\n"
     ]
    }
   ],
   "source": [
    "dp = []\n",
    "dp_spans = []\n",
    "dp_span_start = []\n",
    "dp_span_stop = []\n",
    "labels = []\n",
    "ents = []\n",
    "\n",
    "for entity in sentence.get_labels():\n",
    "    dp.append(entity.data_point)\n",
    "    span = tuple(str(entity.data_point).split(']:')[0].split('[')[1].split(':'))\n",
    "    dp_spans.append(span)\n",
    "    dp_span_start.append(span[0])\n",
    "    dp_span_stop.append(span[1])\n",
    "    labels.append(entity.to_dict()['value'])\n",
    "    text = []\n",
    "    for token in entity.data_point:\n",
    "        #print(str(token).split(': ')[1][1:-1])\n",
    "        text.append(str(token).split(': ')[1][1:-1])\n",
    "    txt = ' '.join(text)\n",
    "    ents.append(txt)\n",
    "\n",
    "print(dp)\n",
    "print(dp_spans)\n",
    "print(labels)\n",
    "print(ents)"
   ]
  },
  {
   "cell_type": "code",
   "execution_count": 121,
   "metadata": {},
   "outputs": [],
   "source": [
    "df = pd.DataFrame(list(zip(ents, labels, dp_span_start, dp_span_stop, dp)), columns = ['named_entity', 'entity_label', 'entity_span_start', 'ent' 'complete_dp'])"
   ]
  },
  {
   "cell_type": "code",
   "execution_count": 122,
   "metadata": {},
   "outputs": [
    {
     "data": {
      "text/html": [
       "<div>\n",
       "<style scoped>\n",
       "    .dataframe tbody tr th:only-of-type {\n",
       "        vertical-align: middle;\n",
       "    }\n",
       "\n",
       "    .dataframe tbody tr th {\n",
       "        vertical-align: top;\n",
       "    }\n",
       "\n",
       "    .dataframe thead th {\n",
       "        text-align: right;\n",
       "    }\n",
       "</style>\n",
       "<table border=\"1\" class=\"dataframe\">\n",
       "  <thead>\n",
       "    <tr style=\"text-align: right;\">\n",
       "      <th></th>\n",
       "      <th>named_entity</th>\n",
       "      <th>entity_label</th>\n",
       "      <th>entity_span</th>\n",
       "      <th>complete_dp</th>\n",
       "    </tr>\n",
       "  </thead>\n",
       "  <tbody>\n",
       "    <tr>\n",
       "      <th>0</th>\n",
       "      <td>McArdle Disease</td>\n",
       "      <td>Disease</td>\n",
       "      <td>(0, 2)</td>\n",
       "      <td>(Token[0]: \"McArdle\", Token[1]: \"Disease\")</td>\n",
       "    </tr>\n",
       "    <tr>\n",
       "      <th>1</th>\n",
       "      <td>Stiff - Person Syndrome</td>\n",
       "      <td>Disease</td>\n",
       "      <td>(3, 7)</td>\n",
       "      <td>(Token[3]: \"Stiff\", Token[4]: \"-\", Token[5]: \"...</td>\n",
       "    </tr>\n",
       "    <tr>\n",
       "      <th>2</th>\n",
       "      <td>McArdle disease</td>\n",
       "      <td>Disease</td>\n",
       "      <td>(21, 23)</td>\n",
       "      <td>(Token[21]: \"McArdle\", Token[22]: \"disease\")</td>\n",
       "    </tr>\n",
       "    <tr>\n",
       "      <th>3</th>\n",
       "      <td>autosomal recessive disorder of muscle glycoge...</td>\n",
       "      <td>Disease</td>\n",
       "      <td>(26, 33)</td>\n",
       "      <td>(Token[26]: \"autosomal\", Token[27]: \"recessive...</td>\n",
       "    </tr>\n",
       "    <tr>\n",
       "      <th>4</th>\n",
       "      <td>pain</td>\n",
       "      <td>Disease</td>\n",
       "      <td>(36, 37)</td>\n",
       "      <td>(Token[36]: \"pain\")</td>\n",
       "    </tr>\n",
       "    <tr>\n",
       "      <th>5</th>\n",
       "      <td>fatigue</td>\n",
       "      <td>Disease</td>\n",
       "      <td>(38, 39)</td>\n",
       "      <td>(Token[38]: \"fatigue\")</td>\n",
       "    </tr>\n",
       "    <tr>\n",
       "      <th>6</th>\n",
       "      <td>Stiff - Person Syndrome</td>\n",
       "      <td>Disease</td>\n",
       "      <td>(42, 46)</td>\n",
       "      <td>(Token[42]: \"Stiff\", Token[43]: \"-\", Token[44]...</td>\n",
       "    </tr>\n",
       "    <tr>\n",
       "      <th>7</th>\n",
       "      <td>autoimmune - related neurologic process</td>\n",
       "      <td>Disease</td>\n",
       "      <td>(48, 53)</td>\n",
       "      <td>(Token[48]: \"autoimmune\", Token[49]: \"-\", Toke...</td>\n",
       "    </tr>\n",
       "    <tr>\n",
       "      <th>8</th>\n",
       "      <td>muscle rigidity</td>\n",
       "      <td>Disease</td>\n",
       "      <td>(56, 58)</td>\n",
       "      <td>(Token[56]: \"muscle\", Token[57]: \"rigidity\")</td>\n",
       "    </tr>\n",
       "    <tr>\n",
       "      <th>9</th>\n",
       "      <td>spasm</td>\n",
       "      <td>Disease</td>\n",
       "      <td>(59, 60)</td>\n",
       "      <td>(Token[59]: \"spasm\")</td>\n",
       "    </tr>\n",
       "    <tr>\n",
       "      <th>10</th>\n",
       "      <td>weakness</td>\n",
       "      <td>Disease</td>\n",
       "      <td>(79, 80)</td>\n",
       "      <td>(Token[79]: \"weakness\")</td>\n",
       "    </tr>\n",
       "    <tr>\n",
       "      <th>11</th>\n",
       "      <td>chest pain</td>\n",
       "      <td>Disease</td>\n",
       "      <td>(81, 83)</td>\n",
       "      <td>(Token[81]: \"chest\", Token[82]: \"pain\")</td>\n",
       "    </tr>\n",
       "    <tr>\n",
       "      <th>12</th>\n",
       "      <td>creatine kinase</td>\n",
       "      <td>Gene</td>\n",
       "      <td>(99, 101)</td>\n",
       "      <td>(Token[99]: \"creatine\", Token[100]: \"kinase\")</td>\n",
       "    </tr>\n",
       "    <tr>\n",
       "      <th>13</th>\n",
       "      <td>creatine</td>\n",
       "      <td>Chemical</td>\n",
       "      <td>(99, 100)</td>\n",
       "      <td>(Token[99]: \"creatine\")</td>\n",
       "    </tr>\n",
       "    <tr>\n",
       "      <th>14</th>\n",
       "      <td>McArdle disease</td>\n",
       "      <td>Disease</td>\n",
       "      <td>(119, 121)</td>\n",
       "      <td>(Token[119]: \"McArdle\", Token[120]: \"disease\")</td>\n",
       "    </tr>\n",
       "    <tr>\n",
       "      <th>15</th>\n",
       "      <td>pain</td>\n",
       "      <td>Disease</td>\n",
       "      <td>(141, 142)</td>\n",
       "      <td>(Token[141]: \"pain\")</td>\n",
       "    </tr>\n",
       "    <tr>\n",
       "      <th>16</th>\n",
       "      <td>pain</td>\n",
       "      <td>Disease</td>\n",
       "      <td>(144, 145)</td>\n",
       "      <td>(Token[144]: \"pain\")</td>\n",
       "    </tr>\n",
       "    <tr>\n",
       "      <th>17</th>\n",
       "      <td>stiffness</td>\n",
       "      <td>Disease</td>\n",
       "      <td>(146, 147)</td>\n",
       "      <td>(Token[146]: \"stiffness\")</td>\n",
       "    </tr>\n",
       "    <tr>\n",
       "      <th>18</th>\n",
       "      <td>glutamic acid decarboxylase</td>\n",
       "      <td>Gene</td>\n",
       "      <td>(152, 155)</td>\n",
       "      <td>(Token[152]: \"glutamic\", Token[153]: \"acid\", T...</td>\n",
       "    </tr>\n",
       "    <tr>\n",
       "      <th>19</th>\n",
       "      <td>glutamic acid</td>\n",
       "      <td>Chemical</td>\n",
       "      <td>(152, 154)</td>\n",
       "      <td>(Token[152]: \"glutamic\", Token[153]: \"acid\")</td>\n",
       "    </tr>\n",
       "    <tr>\n",
       "      <th>20</th>\n",
       "      <td>Stiff - Person Syndrome</td>\n",
       "      <td>Disease</td>\n",
       "      <td>(164, 168)</td>\n",
       "      <td>(Token[164]: \"Stiff\", Token[165]: \"-\", Token[1...</td>\n",
       "    </tr>\n",
       "  </tbody>\n",
       "</table>\n",
       "</div>"
      ],
      "text/plain": [
       "                                         named_entity entity_label   \n",
       "0                                     McArdle Disease      Disease  \\\n",
       "1                             Stiff - Person Syndrome      Disease   \n",
       "2                                     McArdle disease      Disease   \n",
       "3   autosomal recessive disorder of muscle glycoge...      Disease   \n",
       "4                                                pain      Disease   \n",
       "5                                             fatigue      Disease   \n",
       "6                             Stiff - Person Syndrome      Disease   \n",
       "7             autoimmune - related neurologic process      Disease   \n",
       "8                                     muscle rigidity      Disease   \n",
       "9                                               spasm      Disease   \n",
       "10                                           weakness      Disease   \n",
       "11                                         chest pain      Disease   \n",
       "12                                    creatine kinase         Gene   \n",
       "13                                           creatine     Chemical   \n",
       "14                                    McArdle disease      Disease   \n",
       "15                                               pain      Disease   \n",
       "16                                               pain      Disease   \n",
       "17                                          stiffness      Disease   \n",
       "18                        glutamic acid decarboxylase         Gene   \n",
       "19                                      glutamic acid     Chemical   \n",
       "20                            Stiff - Person Syndrome      Disease   \n",
       "\n",
       "   entity_span                                        complete_dp  \n",
       "0       (0, 2)         (Token[0]: \"McArdle\", Token[1]: \"Disease\")  \n",
       "1       (3, 7)  (Token[3]: \"Stiff\", Token[4]: \"-\", Token[5]: \"...  \n",
       "2     (21, 23)       (Token[21]: \"McArdle\", Token[22]: \"disease\")  \n",
       "3     (26, 33)  (Token[26]: \"autosomal\", Token[27]: \"recessive...  \n",
       "4     (36, 37)                                (Token[36]: \"pain\")  \n",
       "5     (38, 39)                             (Token[38]: \"fatigue\")  \n",
       "6     (42, 46)  (Token[42]: \"Stiff\", Token[43]: \"-\", Token[44]...  \n",
       "7     (48, 53)  (Token[48]: \"autoimmune\", Token[49]: \"-\", Toke...  \n",
       "8     (56, 58)       (Token[56]: \"muscle\", Token[57]: \"rigidity\")  \n",
       "9     (59, 60)                               (Token[59]: \"spasm\")  \n",
       "10    (79, 80)                            (Token[79]: \"weakness\")  \n",
       "11    (81, 83)            (Token[81]: \"chest\", Token[82]: \"pain\")  \n",
       "12   (99, 101)      (Token[99]: \"creatine\", Token[100]: \"kinase\")  \n",
       "13   (99, 100)                            (Token[99]: \"creatine\")  \n",
       "14  (119, 121)     (Token[119]: \"McArdle\", Token[120]: \"disease\")  \n",
       "15  (141, 142)                               (Token[141]: \"pain\")  \n",
       "16  (144, 145)                               (Token[144]: \"pain\")  \n",
       "17  (146, 147)                          (Token[146]: \"stiffness\")  \n",
       "18  (152, 155)  (Token[152]: \"glutamic\", Token[153]: \"acid\", T...  \n",
       "19  (152, 154)       (Token[152]: \"glutamic\", Token[153]: \"acid\")  \n",
       "20  (164, 168)  (Token[164]: \"Stiff\", Token[165]: \"-\", Token[1...  "
      ]
     },
     "execution_count": 122,
     "metadata": {},
     "output_type": "execute_result"
    }
   ],
   "source": [
    "df"
   ]
  },
  {
   "cell_type": "code",
   "execution_count": 59,
   "metadata": {},
   "outputs": [],
   "source": [
    "for entity in sentence.get_labels():\n",
    "    print(entity.to_dict())"
   ]
  },
  {
   "cell_type": "code",
   "execution_count": 54,
   "metadata": {},
   "outputs": [
    {
     "name": "stderr",
     "output_type": "stream",
     "text": [
      "C:\\Users\\chiar\\anaconda3\\envs\\NLP\\Lib\\site-packages\\spacy\\util.py:837: UserWarning: [W095] Model 'en_core_sci_sm' (0.5.1) was trained with spaCy v3.4 and may not be 100% compatible with the current version (3.3.1). If you see errors or degraded performance, download a newer compatible model or retrain your custom model with the current spaCy version. For more details and available updates, run: python -m spacy validate\n",
      "  warnings.warn(warn_msg)\n"
     ]
    }
   ],
   "source": [
    "from flair.splitter import SciSpacySentenceSplitter\n",
    "\n",
    "# initialize the sentence splitter\n",
    "splitter = SciSpacySentenceSplitter()\n",
    "\n",
    "# split text into a list of Sentence objects\n",
    "sentences = splitter.split(file_contents)\n",
    "\n",
    "# you can apply the HunFlair tagger directly to this list\n",
    "tagger.predict(sentences)"
   ]
  },
  {
   "cell_type": "code",
   "execution_count": 55,
   "metadata": {},
   "outputs": [
    {
     "name": "stdout",
     "output_type": "stream",
     "text": [
      "Sentence[21]: \"McArdle Disease vs. Stiff-Person Syndrome: A Case Report Highlighting the Similarities Between Two Rare and Distinct Disorders.\" → [\"McArdle Disease\"/Disease, \"Stiff-Person Syndrome\"/Disease]\n",
      "Sentence[21]: \"McArdle disease is a rare autosomal recessive disorder of muscle glycogen metabolism that presents with pain and fatigue during exercise.\" → [\"McArdle disease\"/Disease, \"autosomal recessive disorder of muscle glycogen metabolism\"/Disease, \"pain\"/Disease, \"fatigue\"/Disease]\n",
      "Sentence[19]: \"Stiff-Person Syndrome is an autoimmune-related neurologic process characterized by fluctuating muscle rigidity and spasm.\" → [\"Stiff-Person Syndrome\"/Disease, \"muscle rigidity\"/Disease, \"spasm\"/Disease]\n",
      "Sentence[29]: \"Reported is a 41-year-old male who presented to the emergency department due to sudden-onset weakness and chest pain while moving his refrigerator at home.\" → [\"weakness\"/Disease, \"chest pain\"/Disease]\n",
      "Sentence[19]: \"Cardiac workup was non-contributory, but a creatine kinase level > 6,000 warranted a muscle biopsy.\" → [\"creatine kinase\"/Gene, \"creatine\"/Chemical]\n",
      "Sentence[17]: \"The biopsy pathology report was misinterpreted to be diagnostic for McArdle disease given the clinical presentation.\" → [\"McArdle disease\"/Disease]\n",
      "Sentence[24]: \"After 4 years of treatment without symptomatic improvement, a gradual transition of symptoms from pain alone to pain with stiffness was noted.\" → [\"pain\"/Disease, \"pain\"/Disease]\n",
      "Sentence[19]: \"A positive glutamic acid decarboxylase antibody test resulted in a change of diagnosis to Stiff-Person Syndrome.\" → [\"glutamic acid decarboxylase\"/Gene, \"glutamic acid\"/Chemical, \"Stiff-Person Syndrome\"/Disease]\n",
      "Sentence[45]: \"This is the first known case that highlights the similarities between these two rare and distinct disease processes, highlighting the necessity for thorough history taking, maintenance of a broad differential diagnosis, and knowledge of how best to interpret complex pathology reports.\"\n"
     ]
    }
   ],
   "source": [
    "for sentence in sentences:\n",
    "    print(sentence.to_tagged_string())"
   ]
  },
  {
   "cell_type": "markdown",
   "metadata": {},
   "source": [
    "# NER with SciSpaCy"
   ]
  },
  {
   "cell_type": "code",
   "execution_count": 26,
   "metadata": {},
   "outputs": [
    {
     "name": "stderr",
     "output_type": "stream",
     "text": [
      "C:\\Users\\chiar\\anaconda3\\envs\\NLP\\Lib\\site-packages\\spacy\\util.py:837: UserWarning: [W095] Model 'en_core_sci_sm' (0.5.1) was trained with spaCy v3.4 and may not be 100% compatible with the current version (3.3.1). If you see errors or degraded performance, download a newer compatible model or retrain your custom model with the current spaCy version. For more details and available updates, run: python -m spacy validate\n",
      "  warnings.warn(warn_msg)\n"
     ]
    }
   ],
   "source": [
    "nlp = spacy.load(\"en_ner_bionlp13cg_md\")#(\"en_core_sci_sm\")"
   ]
  },
  {
   "cell_type": "code",
   "execution_count": 30,
   "metadata": {},
   "outputs": [],
   "source": [
    "doc = nlp(file_contents)"
   ]
  },
  {
   "cell_type": "code",
   "execution_count": 31,
   "metadata": {},
   "outputs": [
    {
     "name": "stdout",
     "output_type": "stream",
     "text": [
      "(McArdle Disease, Stiff-Person Syndrome, Case Report, Similarities, Rare, Disorders, McArdle disease, autosomal recessive disorder, muscle glycogen metabolism, pain, fatigue, exercise, Stiff-Person Syndrome, autoimmune-related neurologic process, muscle rigidity, spasm, male, emergency department, sudden-onset weakness, chest pain, moving, refrigerator, home, Cardiac workup, non-contributory, creatine kinase, level, muscle biopsy, biopsy pathology report, diagnostic, McArdle disease, clinical presentation, years, treatment, symptomatic, improvement, transition, symptoms, pain, pain, stiffness, positive glutamic acid decarboxylase antibody test, diagnosis, Stiff-Person Syndrome, similarities, rare, disease processes, necessity, history taking, maintenance, knowledge, complex, pathology reports)\n"
     ]
    }
   ],
   "source": [
    "print(doc.ents)"
   ]
  },
  {
   "cell_type": "code",
   "execution_count": 35,
   "metadata": {},
   "outputs": [
    {
     "name": "stdout",
     "output_type": "stream",
     "text": [
      "McArdle Disease ENTITY\n",
      "Stiff-Person Syndrome ENTITY\n",
      "Case Report ENTITY\n",
      "Similarities ENTITY\n",
      "Rare ENTITY\n",
      "Disorders ENTITY\n",
      "McArdle disease ENTITY\n",
      "autosomal recessive disorder ENTITY\n",
      "muscle glycogen metabolism ENTITY\n",
      "pain ENTITY\n",
      "fatigue ENTITY\n",
      "exercise ENTITY\n",
      "Stiff-Person Syndrome ENTITY\n",
      "autoimmune-related neurologic process ENTITY\n",
      "muscle rigidity ENTITY\n",
      "spasm ENTITY\n",
      "male ENTITY\n",
      "emergency department ENTITY\n",
      "sudden-onset weakness ENTITY\n",
      "chest pain ENTITY\n",
      "moving ENTITY\n",
      "refrigerator ENTITY\n",
      "home ENTITY\n",
      "Cardiac workup ENTITY\n",
      "non-contributory ENTITY\n",
      "creatine kinase ENTITY\n",
      "level ENTITY\n",
      "muscle biopsy ENTITY\n",
      "biopsy pathology report ENTITY\n",
      "diagnostic ENTITY\n",
      "McArdle disease ENTITY\n",
      "clinical presentation ENTITY\n",
      "years ENTITY\n",
      "treatment ENTITY\n",
      "symptomatic ENTITY\n",
      "improvement ENTITY\n",
      "transition ENTITY\n",
      "symptoms ENTITY\n",
      "pain ENTITY\n",
      "pain ENTITY\n",
      "stiffness ENTITY\n",
      "positive glutamic acid decarboxylase antibody test ENTITY\n",
      "diagnosis ENTITY\n",
      "Stiff-Person Syndrome ENTITY\n",
      "similarities ENTITY\n",
      "rare ENTITY\n",
      "disease processes ENTITY\n",
      "necessity ENTITY\n",
      "history taking ENTITY\n",
      "maintenance ENTITY\n",
      "knowledge ENTITY\n",
      "complex ENTITY\n",
      "pathology reports ENTITY\n"
     ]
    }
   ],
   "source": [
    "# Print named entity labels\n",
    "for ent in doc.ents:\n",
    "    print(ent.text, ent.label_)"
   ]
  },
  {
   "cell_type": "markdown",
   "metadata": {},
   "source": [
    "There are specialized entities in spacy for which there are special entity label. However they do not cover as much as the flair named entities."
   ]
  }
 ],
 "metadata": {
  "kernelspec": {
   "display_name": "NLP",
   "language": "python",
   "name": "nlp"
  },
  "language_info": {
   "codemirror_mode": {
    "name": "ipython",
    "version": 3
   },
   "file_extension": ".py",
   "mimetype": "text/x-python",
   "name": "python",
   "nbconvert_exporter": "python",
   "pygments_lexer": "ipython3",
   "version": "3.11.3"
  },
  "vscode": {
   "interpreter": {
    "hash": "453b7706fd82fbe729e681faa7c1b469d8ef54e0ef9fc628ee4ff7ef69952a5b"
   }
  }
 },
 "nbformat": 4,
 "nbformat_minor": 2
}
